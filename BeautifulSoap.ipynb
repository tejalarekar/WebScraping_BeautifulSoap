{
 "cells": [
  {
   "cell_type": "code",
   "execution_count": 1,
   "id": "8761fdb5",
   "metadata": {},
   "outputs": [
    {
     "data": {
      "text/html": [
       "<div>\n",
       "<style scoped>\n",
       "    .dataframe tbody tr th:only-of-type {\n",
       "        vertical-align: middle;\n",
       "    }\n",
       "\n",
       "    .dataframe tbody tr th {\n",
       "        vertical-align: top;\n",
       "    }\n",
       "\n",
       "    .dataframe thead th {\n",
       "        text-align: right;\n",
       "    }\n",
       "</style>\n",
       "<table border=\"1\" class=\"dataframe\">\n",
       "  <thead>\n",
       "    <tr style=\"text-align: right;\">\n",
       "      <th></th>\n",
       "      <th>Reviews</th>\n",
       "    </tr>\n",
       "  </thead>\n",
       "  <tbody>\n",
       "    <tr>\n",
       "      <th>0</th>\n",
       "      <td>Great place and awesome If Punjabi cuisine glo...</td>\n",
       "    </tr>\n",
       "    <tr>\n",
       "      <th>1</th>\n",
       "      <td>Amazing Murg Afghani Kabab is a must Lovely Ve...</td>\n",
       "    </tr>\n",
       "    <tr>\n",
       "      <th>2</th>\n",
       "      <td>I have been eying this restaurant for a long t...</td>\n",
       "    </tr>\n",
       "    <tr>\n",
       "      <th>3</th>\n",
       "      <td>Global punjab has always been our go to restau...</td>\n",
       "    </tr>\n",
       "    <tr>\n",
       "      <th>4</th>\n",
       "      <td>Punjab is one of my go to destinations for Ind...</td>\n",
       "    </tr>\n",
       "  </tbody>\n",
       "</table>\n",
       "</div>"
      ],
      "text/plain": [
       "                                             Reviews\n",
       "0  Great place and awesome If Punjabi cuisine glo...\n",
       "1  Amazing Murg Afghani Kabab is a must Lovely Ve...\n",
       "2  I have been eying this restaurant for a long t...\n",
       "3  Global punjab has always been our go to restau...\n",
       "4  Punjab is one of my go to destinations for Ind..."
      ]
     },
     "metadata": {},
     "output_type": "display_data"
    }
   ],
   "source": [
    "import requests\n",
    "from bs4 import BeautifulSoup\n",
    "import re\n",
    "import pandas as pd\n",
    "\n",
    "# Make a request \n",
    "url = 'https://globalpunjab.in/'\n",
    "response = requests.get(url)\n",
    "\n",
    "# Parse the HTML content of the page\n",
    "soup = BeautifulSoup(response.text, 'html.parser')\n",
    "# print(soup)\n",
    "\n",
    "regex = re.compile('testimonial-text text-md mb-lg-35')\n",
    "\n",
    "# Find the review section\n",
    "reviews_section = soup.find_all('p', {'class': regex})\n",
    "# print(reviews_section)\n",
    "\n",
    "# Extract the text of each review\n",
    "reviews = [result.text for result in reviews_section]\n",
    "\n",
    "# Remove Unwanted Characters\n",
    "final_reviews = []\n",
    "for i in reviews:\n",
    "    sent = []\n",
    "    for word in i.split():\n",
    "        if word.isalpha():\n",
    "            sent.append(word)\n",
    "    final_reviews.append(' '.join(sent))\n",
    "\n",
    "# Final Text\n",
    "# print(final_reviews)\n",
    "\n",
    "# Creating Data Frame of Reviews\n",
    "df_reviews = pd.DataFrame(final_reviews,columns=['Reviews'])\n",
    "display(df_reviews)"
   ]
  },
  {
   "cell_type": "code",
   "execution_count": null,
   "id": "fa6f4c60",
   "metadata": {},
   "outputs": [],
   "source": []
  }
 ],
 "metadata": {
  "kernelspec": {
   "display_name": "Python 3 (ipykernel)",
   "language": "python",
   "name": "python3"
  },
  "language_info": {
   "codemirror_mode": {
    "name": "ipython",
    "version": 3
   },
   "file_extension": ".py",
   "mimetype": "text/x-python",
   "name": "python",
   "nbconvert_exporter": "python",
   "pygments_lexer": "ipython3",
   "version": "3.9.13"
  }
 },
 "nbformat": 4,
 "nbformat_minor": 5
}
